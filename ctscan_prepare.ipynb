{
 "cells": [
  {
   "cell_type": "code",
   "execution_count": null,
   "metadata": {},
   "outputs": [],
   "source": [
    "import os, shutil\n",
    "from glob import glob\n",
    "import re"
   ]
  },
  {
   "cell_type": "code",
   "execution_count": null,
   "metadata": {},
   "outputs": [],
   "source": [
    "datapath = '/media/sanromd/data/lab/data/characterization/ct_scan/_unsorted/'"
   ]
  },
  {
   "cell_type": "code",
   "execution_count": null,
   "metadata": {},
   "outputs": [],
   "source": [
    "for root, dirs, files in os.walk(datapath, topdown=False):\n",
    "    if ((\"Slices\" in root)*(\"lssy_011\" in root)):\n",
    "        print(root)\n",
    "        nroot = re.sub(r'lssy_011_s([0-9])',r's\\1',root)\n",
    "        os.rename(root, nroot)"
   ]
  },
  {
   "cell_type": "code",
   "execution_count": null,
   "metadata": {},
   "outputs": [],
   "source": [
    "# blocks_path = '/media/sanromd/data/lab/data/characterization/ct_scan/_unsorted/Blocks/lssy_011'\n",
    "# for root, dirs, files in os.walk(datapath, topdown=False):\n",
    "#     if ((\"Slices\" in root)*(\"lssy_\" in root)):\n",
    "#         for d in dirs:\n",
    "#             sd = re.sub(r'lssy_after_([0-9]+[d])',r'after_\\1',re.findall(r'lssy_after_[0-9]+[d]',root)[0])\n",
    "#             opath = os.path.join(root,d)\n",
    "#             npath = os.path.join(blocks_path,d,sd,'raw')\n",
    "#             print(opath)\n",
    "            \n",
    "#             if not os.path.exists(npath):    \n",
    "#                 os.mkdir(npath)\n",
    "#                 print('creating',npath, sep='\\t')\n",
    "            \n",
    "#             print('moving', opath, sep='\\t')\n",
    "#             print('to',npath, sep='\\t')\n",
    "#             for f in os.listdir(opath):\n",
    "#                 shutil.move(os.path.join(opath,f),npath)"
   ]
  },
  {
   "cell_type": "code",
   "execution_count": null,
   "metadata": {},
   "outputs": [],
   "source": [
    "for root, dirs, files in os.walk(datapath, topdown=True):\n",
    "    dirs[:] = [d for d in dirs if 'Block' not in d]\n",
    "    #dirs[:] = [d for d in dirs if 'Slice' in d]\n",
    "    if \"Slices\" in root:\n",
    "        for d in dirs:\n",
    "            opath = os.path.join(root,d)\n",
    "            if os.path.isdir(os.path.join(opath,'raw')):\n",
    "                opath = os.path.join(opath,'raw')\n",
    "            #res = re.sub(r'\\d+', lambda x: x.group(0).zfill(5), 'hello120_c')\n",
    "            nd = re.sub(r'([a-z]+)+[-|_]+([0-9]+)',lambda x: x.group(1)+'_'+x.group(2).zfill(3),d.lower())\n",
    "            #print(d, nd, sep='\\t')\n",
    "            npath = os.path.join('/media/sanromd/data/lab/data/characterization/ct_scan/',nd)\n",
    "            if not os.path.isdir(npath):\n",
    "                os.mkdir(os.path.join(npath))\n",
    "            if not os.path.isdir(os.path.join(npath,'raw')):\n",
    "                os.mkdir(os.path.join(npath,'raw'))\n",
    "            for f in os.listdir(opath):\n",
    "                if 'emf' in f:\n",
    "                    shutil.move(os.path.join(opath,f),os.path.join(npath,f.lower()))\n",
    "                if \"CT\" in f:\n",
    "                    shutil.move(os.path.join(opath,f),os.path.join(npath,'raw',f.lower()))\n",
    "                if \"txt\" in f:\n",
    "                    shutil.move(os.path.join(opath,f),os.path.join(npath,f.lower()))\n",
    "            print(opath)\n",
    "            print(npath)"
   ]
  }
 ],
 "metadata": {
  "kernelspec": {
   "display_name": "Python 3",
   "language": "python",
   "name": "python3"
  },
  "language_info": {
   "codemirror_mode": {
    "name": "ipython",
    "version": 3
   },
   "file_extension": ".py",
   "mimetype": "text/x-python",
   "name": "python",
   "nbconvert_exporter": "python",
   "pygments_lexer": "ipython3",
   "version": "3.7.3"
  }
 },
 "nbformat": 4,
 "nbformat_minor": 2
}
